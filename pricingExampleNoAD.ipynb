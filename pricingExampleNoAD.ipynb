{
 "cells": [
  {
   "attachments": {},
   "cell_type": "markdown",
   "metadata": {},
   "source": [
    "# Pricing examples using Atlas (No AD)\n",
    "\n",
    "- Updated: 2023-06-29 \n",
    "- Status: Active"
   ]
  },
  {
   "cell_type": "code",
   "execution_count": 1,
   "metadata": {},
   "outputs": [],
   "source": [
    "import Atlas\n",
    "import Atlas.Visitors as Visitors\n",
    "import Atlas.Parsers as Parser\n",
    "import pandas as pd"
   ]
  },
  {
   "attachments": {},
   "cell_type": "markdown",
   "metadata": {},
   "source": [
    "Para ver que tiene cada modulo, clase o funcion, puedes ocupar ```dir```"
   ]
  },
  {
   "cell_type": "code",
   "execution_count": 4,
   "metadata": {},
   "outputs": [
    {
     "data": {
      "text/plain": [
       "['BaseConstVisitor',\n",
       " 'BaseVisitor',\n",
       " 'FixingVisitor',\n",
       " 'IndexingVisitor',\n",
       " 'InstrumentVariant',\n",
       " 'NPVConstVisitor',\n",
       " 'ParRateConstVisitor',\n",
       " 'SensibilityConstVisitor',\n",
       " 'ZSpreadConstVisitor',\n",
       " '__doc__',\n",
       " '__loader__',\n",
       " '__name__',\n",
       " '__package__',\n",
       " '__spec__']"
      ]
     },
     "execution_count": 4,
     "metadata": {},
     "output_type": "execute_result"
    }
   ],
   "source": [
    "dir(Visitors)"
   ]
  },
  {
   "cell_type": "code",
   "execution_count": 5,
   "metadata": {},
   "outputs": [
    {
     "data": {
      "text/plain": [
       "['__doc__',\n",
       " '__loader__',\n",
       " '__name__',\n",
       " '__package__',\n",
       " '__spec__',\n",
       " 'parseCalendar',\n",
       " 'parseCompounding',\n",
       " 'parseConvention',\n",
       " 'parseCurrency',\n",
       " 'parseDate',\n",
       " 'parseDayCounter',\n",
       " 'parseFrequency',\n",
       " 'parsePeriod',\n",
       " 'parseTimeUnit']"
      ]
     },
     "execution_count": 5,
     "metadata": {},
     "output_type": "execute_result"
    }
   ],
   "source": [
    "dir(Parser)"
   ]
  },
  {
   "cell_type": "code",
   "execution_count": 6,
   "metadata": {},
   "outputs": [
    {
     "data": {
      "text/plain": [
       "Atlas.Date"
      ]
     },
     "execution_count": 6,
     "metadata": {},
     "output_type": "execute_result"
    }
   ],
   "source": [
    "date = Parser.parseDate('2023-06-29')\n",
    "type(date)"
   ]
  },
  {
   "attachments": {},
   "cell_type": "markdown",
   "metadata": {},
   "source": [
    "Estas son los tipos de curvas que estan implementadas, en el caso de la API de pricing, usamos la ```DiscountLogLinearStrategy```"
   ]
  },
  {
   "cell_type": "code",
   "execution_count": 7,
   "metadata": {},
   "outputs": [
    {
     "name": "stdout",
     "output_type": "stream",
     "text": [
      "DiscountLogLinearStrategy\n",
      "FlatForwardStrategy\n",
      "YieldTermStructureStrategy\n",
      "ZeroRateLinearStrategy\n"
     ]
    }
   ],
   "source": [
    "for i in dir(Atlas):\n",
    "    if 'Strategy' in i:\n",
    "        print(i)"
   ]
  },
  {
   "attachments": {},
   "cell_type": "markdown",
   "metadata": {},
   "source": [
    "#### Initialize market variables\n",
    "\n",
    "Market variables are stored in the ```MarketStore```, we add the rate curves, rate indexes and fx exchange rates."
   ]
  },
  {
   "cell_type": "code",
   "execution_count": 8,
   "metadata": {},
   "outputs": [],
   "source": [
    "evalDate = Atlas.Date(1, Atlas.August, 2020)\n",
    "store = Atlas.MarketStore(evalDate, Atlas.CLP()) # store with CLP as base currency\n",
    "\n",
    "# define curve\n",
    "curveDayCounter = Atlas.Actual360()\n",
    "curveCompounding = Atlas.Simple\n",
    "curveFrequency = Atlas.Annual"
   ]
  },
  {
   "attachments": {},
   "cell_type": "markdown",
   "metadata": {},
   "source": [
    "Esta es la parte que hay que cambiar: como estamos trayendo de la DB factores de descuento, hay que cambiar el strategy por el mencionado arriba."
   ]
  },
  {
   "cell_type": "code",
   "execution_count": 9,
   "metadata": {},
   "outputs": [],
   "source": [
    "clpRate = 0.03 # vantigua clpRate = Atlas.Dual(0.03)\n",
    "usdRate = 0.01\n",
    "fx = 800\n",
    "\n",
    "# add CLP Curve\n",
    "strategy = Atlas.FlatForwardStrategy(evalDate, clpRate, curveDayCounter, curveCompounding, curveFrequency)\n",
    "clpCurve = Atlas.YieldTermStructure(strategy)\n",
    "index = Atlas.RateIndex(evalDate, curveFrequency, curveDayCounter, curveFrequency, curveCompounding)\n",
    "store.addCurve(\"CLP\", clpCurve, index, Atlas.CLP())\n",
    "\n",
    "# add USD Curve\n",
    "strategy = Atlas.FlatForwardStrategy(evalDate, usdRate, curveDayCounter, curveCompounding, curveFrequency)\n",
    "usdCurve = Atlas.YieldTermStructure(strategy)\n",
    "store.addCurve(\"USD\", usdCurve, index, Atlas.USD())\n",
    "\n",
    "# add FX\n",
    "store.addExchangeRate(Atlas.CLP(), Atlas.USD(), fx)"
   ]
  },
  {
   "attachments": {},
   "cell_type": "markdown",
   "metadata": {},
   "source": [
    "#### Create an instrument\n",
    "\n",
    "We initialize the instrument with the corresponding discount curve id (passing the context parameter). As default, instrument coupon's are set as \"local\" currency, meaning that their current currency will match the store local currency."
   ]
  },
  {
   "cell_type": "code",
   "execution_count": 10,
   "metadata": {},
   "outputs": [],
   "source": [
    "#define interest rate\n",
    "rateValue = 0.05\n",
    "dayCounter = Atlas.Thirty360()\n",
    "compounding = Atlas.Simple\n",
    "frequency = Atlas.Annual\n",
    "\n",
    "rate = Atlas.InterestRate(rateValue, dayCounter, compounding, frequency)\n",
    "discountContext = store.curveContext(\"CLP\")\n",
    "# define zero coupon instrument\n",
    "notional = 100\n",
    "startDate = evalDate\n",
    "endDate = Atlas.Date(1, Atlas.August, 2025)\n",
    "paymentFrequency = Atlas.Semiannual\n",
    "instrument = Atlas.FixedRateBulletInstrument(startDate, endDate, paymentFrequency, notional, rate, discountContext)"
   ]
  },
  {
   "attachments": {},
   "cell_type": "markdown",
   "metadata": {},
   "source": [
    "#### Inspect the cashflows\n",
    "We can use the CashflowProfiler visitor to check the instrument cashflows."
   ]
  },
  {
   "cell_type": "code",
   "execution_count": 11,
   "metadata": {},
   "outputs": [
    {
     "data": {
      "text/html": [
       "<div>\n",
       "<style scoped>\n",
       "    .dataframe tbody tr th:only-of-type {\n",
       "        vertical-align: middle;\n",
       "    }\n",
       "\n",
       "    .dataframe tbody tr th {\n",
       "        vertical-align: top;\n",
       "    }\n",
       "\n",
       "    .dataframe thead th {\n",
       "        text-align: right;\n",
       "    }\n",
       "</style>\n",
       "<table border=\"1\" class=\"dataframe\">\n",
       "  <thead>\n",
       "    <tr style=\"text-align: right;\">\n",
       "      <th></th>\n",
       "      <th>Interest</th>\n",
       "      <th>Redemptions</th>\n",
       "    </tr>\n",
       "  </thead>\n",
       "  <tbody>\n",
       "    <tr>\n",
       "      <th>2021-02-01</th>\n",
       "      <td>2.5</td>\n",
       "      <td>NaN</td>\n",
       "    </tr>\n",
       "    <tr>\n",
       "      <th>2021-08-01</th>\n",
       "      <td>2.5</td>\n",
       "      <td>NaN</td>\n",
       "    </tr>\n",
       "    <tr>\n",
       "      <th>2022-02-01</th>\n",
       "      <td>2.5</td>\n",
       "      <td>NaN</td>\n",
       "    </tr>\n",
       "    <tr>\n",
       "      <th>2022-08-01</th>\n",
       "      <td>2.5</td>\n",
       "      <td>NaN</td>\n",
       "    </tr>\n",
       "    <tr>\n",
       "      <th>2023-02-01</th>\n",
       "      <td>2.5</td>\n",
       "      <td>NaN</td>\n",
       "    </tr>\n",
       "    <tr>\n",
       "      <th>2023-08-01</th>\n",
       "      <td>2.5</td>\n",
       "      <td>NaN</td>\n",
       "    </tr>\n",
       "    <tr>\n",
       "      <th>2024-02-01</th>\n",
       "      <td>2.5</td>\n",
       "      <td>NaN</td>\n",
       "    </tr>\n",
       "    <tr>\n",
       "      <th>2024-08-01</th>\n",
       "      <td>2.5</td>\n",
       "      <td>NaN</td>\n",
       "    </tr>\n",
       "    <tr>\n",
       "      <th>2025-02-01</th>\n",
       "      <td>2.5</td>\n",
       "      <td>NaN</td>\n",
       "    </tr>\n",
       "    <tr>\n",
       "      <th>2025-08-01</th>\n",
       "      <td>2.5</td>\n",
       "      <td>100.0</td>\n",
       "    </tr>\n",
       "  </tbody>\n",
       "</table>\n",
       "</div>"
      ],
      "text/plain": [
       "            Interest  Redemptions\n",
       "2021-02-01       2.5          NaN\n",
       "2021-08-01       2.5          NaN\n",
       "2022-02-01       2.5          NaN\n",
       "2022-08-01       2.5          NaN\n",
       "2023-02-01       2.5          NaN\n",
       "2023-08-01       2.5          NaN\n",
       "2024-02-01       2.5          NaN\n",
       "2024-08-01       2.5          NaN\n",
       "2025-02-01       2.5          NaN\n",
       "2025-08-01       2.5        100.0"
      ]
     },
     "execution_count": 11,
     "metadata": {},
     "output_type": "execute_result"
    }
   ],
   "source": [
    "profiler = Atlas.CashflowProfiler()\n",
    "profiler.visit(instrument)\n",
    "interest = profiler.interests()\n",
    "redemptions = profiler.redemptions()\n",
    "\n",
    "df = pd.DataFrame({\"Interest\": interest, \"Redemptions\": redemptions})\n",
    "df"
   ]
  },
  {
   "attachments": {},
   "cell_type": "markdown",
   "metadata": {},
   "source": [
    "### Evaluation process"
   ]
  },
  {
   "attachments": {},
   "cell_type": "markdown",
   "metadata": {},
   "source": [
    "#### 1. Index the instrument\n",
    "In the indexing phase, market variables are obtained and stored in a MarketRequest object. This information will be used by a Model, which is in charge of producing all the market data needed for later calculations."
   ]
  },
  {
   "cell_type": "code",
   "execution_count": 12,
   "metadata": {},
   "outputs": [],
   "source": [
    "indexer = Visitors.IndexingVisitor()\n",
    "indexer.visit(instrument)\n",
    "request = indexer.getResults()"
   ]
  },
  {
   "attachments": {},
   "cell_type": "markdown",
   "metadata": {},
   "source": [
    "#### 2. Setup a model and simulate market variables\n",
    "Currently the only model available (SpotMarketDataModel), takes the market information and generates values assuming common linear product's assumptions."
   ]
  },
  {
   "cell_type": "code",
   "execution_count": 13,
   "metadata": {},
   "outputs": [],
   "source": [
    "model = Atlas.SpotMarketDataModel(request, store)\n",
    "marketData = model.marketData(evalDate)"
   ]
  },
  {
   "attachments": {},
   "cell_type": "markdown",
   "metadata": {},
   "source": [
    "#### 3. Setup a visitor and evaluate\n",
    "Visitor are the ones in charge to do evaluations. When visiting, Visitor will execute the precise code needed for each type of instrument."
   ]
  },
  {
   "attachments": {},
   "cell_type": "markdown",
   "metadata": {},
   "source": [
    "- Instrument NPV: ```NPVConstVisitor```\n",
    "\n",
    "This visitor calculates the NPV of each instruments and adds it to an internal variables called npv_, so if it visits many instrument, the value returned by ```results``` will be the sum of each NPV. In the case of a fixed bond, the NPV is being calculated as:\n",
    "\n",
    "$$NPV^l = \\frac{\\Sigma_{1}^{N}c_{i}^{f}df^{f}_{i}}{fx^{f/l}}$$"
   ]
  },
  {
   "cell_type": "code",
   "execution_count": 14,
   "metadata": {},
   "outputs": [
    {
     "name": "stdout",
     "output_type": "stream",
     "text": [
      "NPV: 109.8990\n"
     ]
    }
   ],
   "source": [
    "npvCalculator = Visitors.NPVConstVisitor(marketData)\n",
    "npvCalculator.visit(instrument)\n",
    "npv = npvCalculator.getResults()\n",
    "print(\"NPV: {:.4f}\".format(npv))"
   ]
  },
  {
   "attachments": {},
   "cell_type": "markdown",
   "metadata": {},
   "source": [
    "If we want to calculate the insturment duration, we can use the tape (AD). In this case, the duration is being calculated as:\n",
    "\n",
    "$$Dur = \\frac{dNPV}{dr}$$"
   ]
  },
  {
   "cell_type": "code",
   "execution_count": 15,
   "metadata": {},
   "outputs": [
    {
     "name": "stdout",
     "output_type": "stream",
     "text": [
      "Sensibility to coupon rate: 4.2050\n"
     ]
    }
   ],
   "source": [
    "sensCalculator = Visitors.SensibilityConstVisitor(marketData)\n",
    "sensCalculator.visit(instrument)\n",
    "sens = sensCalculator.getResults()\n",
    "sensCalculator.reset()\n",
    "print(\"Sensibility to coupon rate: {:.4f}\".format(sens['couponRateSens']))"
   ]
  },
  {
   "attachments": {},
   "cell_type": "markdown",
   "metadata": {},
   "source": [
    "- Fixed Income Par Rate: ```ParRateConstVisitor```\n",
    "\n",
    "This visitor calculates the par rate of a given instrument (in this case, rates are not \"accumulated\" as before). The par rate is calculated, for a fixed rate instruments as follows:\n",
    "\n",
    "$$r = \\argmin_r (\\frac{\\Sigma_{1}^{T}c_{i}(r) df_{i}}{N} - df_0)^2$$\n",
    "\n",
    "Where $df_0$ helps bringing the disbursement to the current evaluation date."
   ]
  },
  {
   "cell_type": "code",
   "execution_count": 16,
   "metadata": {},
   "outputs": [
    {
     "name": "stdout",
     "output_type": "stream",
     "text": [
      "Par Rate: 2.8579%\n"
     ]
    }
   ],
   "source": [
    "parSolver = Visitors.ParRateConstVisitor(marketData)\n",
    "parSolver.visit(instrument)\n",
    "rate = parSolver.getResults()\n",
    "print(\"Par Rate: {:.4f}%\".format(rate['rate']*100))"
   ]
  },
  {
   "attachments": {},
   "cell_type": "markdown",
   "metadata": {},
   "source": [
    "- Fixed Income Z-Spread: ```ZSpreadCalculator```\n",
    "\n",
    "This visitor calculates the z-spread of a fixed rate instrument (does not apply to other types of instruments). \n",
    "\n",
    "$$s = \\argmin_s ({\\Sigma_{1}^{N}c_{i} df_{i}(s)} - NPV_{target})^2$$\n",
    "\n",
    "Where $df_i$ will be calculated using the given day counter, compounding and frequency."
   ]
  },
  {
   "cell_type": "code",
   "execution_count": 17,
   "metadata": {},
   "outputs": [
    {
     "name": "stdout",
     "output_type": "stream",
     "text": [
      "Z-spread: CLP+249.06 bps\n"
     ]
    }
   ],
   "source": [
    "targetNPV = 100\n",
    "zspreadCalculator = Visitors.ZSpreadConstVisitor(marketData, targetNPV, dayCounter=Atlas.Actual360(), compounding=Atlas.Simple, frequency=Atlas.Annual)\n",
    "zspreadCalculator.visit(instrument)\n",
    "zspread = zspreadCalculator.getResults()\n",
    "print(\"Z-spread: CLP+{:.2f} bps\".format(zspread*10000))"
   ]
  }
 ],
 "metadata": {
  "kernelspec": {
   "display_name": "Python 3",
   "language": "python",
   "name": "python3"
  },
  "language_info": {
   "codemirror_mode": {
    "name": "ipython",
    "version": 3
   },
   "file_extension": ".py",
   "mimetype": "text/x-python",
   "name": "python",
   "nbconvert_exporter": "python",
   "pygments_lexer": "ipython3",
   "version": "3.11.3"
  },
  "orig_nbformat": 4
 },
 "nbformat": 4,
 "nbformat_minor": 2
}
